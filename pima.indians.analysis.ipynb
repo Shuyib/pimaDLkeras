{
 "cells": [
  {
   "cell_type": "markdown",
   "metadata": {},
   "source": [
    "**Title:** Neural Networks to boost prediction accuracy of the Pima indians dataset.\n",
    "\n",
    "**Author:** Nyabuti Mainye\n",
    "\n",
    "**Date:** 5/6/2017"
   ]
  },
  {
   "cell_type": "markdown",
   "metadata": {},
   "source": [
    "### Introduction \n",
    "**Predictive analytics** is the practice of extracting information from existing data sets in order to determine patterns and predict future outcomes and trends.<sup>[1](http://www.webopedia.com/TERM/P/predictive_analytics.html)</sup> <sup>[2](https://gist.github.com/themiwi/5064046/revisions)</sup> It has a variety of applications in healthcare, credit scoring, recommendation systems like online newspapers and understanding shopping trends of customers.<sup>[3](http://www.predictiveanalyticsworld.com/businessapplications.php)</sup> On the other hand, these applications are possible by drawing from statistical techniques such as predictive modeling, machine learning and data mining.<sup>[4](https://en.wikipedia.org/wiki/Predictive_analytics)</sup> The dataset i will be using is the pima indians dataset. I will use the keras library - \"it is a high level neural network API(Application programming interface), written in Python and capable of running on top of either TensorFlow or Theano.\"<sup>[6](https://keras.io)</sup> During the analysis i will use the **Specify-Compile-Fit-Predict** workflow as demonstrated in some examples[ here.](https://github.com/fchollet/keras/tree/master/examples) Let's proceed to the next section."
   ]
  },
  {
   "cell_type": "markdown",
   "metadata": {
    "collapsed": true
   },
   "source": [
    "### Data:\n",
    "\n",
    "Pima indians are native americans living in now central and southern Arizona in the United States of America.<sup>[7](https://en.wikipedia.org/wiki/Pima_people)</sup> However, this dataset consists of females at least 21 years old of the Pima Indian heritage.<sup>[8](https://archive.ics.uci.edu/ml/datasets/Pima+Indians+Diabetes)</sup> Initially, it was used to forecast onset of diabetes mellitus Smith et al. (1988) using the ADAP learning algorithm. <sup>[9](https://www.ncbi.nlm.nih.gov/pmc/articles/PMC2245318/)</sup> In my analysis, i will attempt to use the keras library neural network API(Application programming interface to try and get a higher accuracy than the one that was gotten during the initial study.\n",
    "\n",
    "In line with scope of interest, is that given **predictor variables** namely: \n",
    "1. Number of times pregnant \n",
    "2. Plasma glucose concentration a 2 hours in an oral glucose tolerance test \n",
    "3. Diastolic blood pressure (mm Hg) \n",
    "4. Triceps skin fold thickness (mm) \n",
    "5. 2-Hour serum insulin (mu U/ml) \n",
    "6. Body mass index (weight in kg/(height in m)^2) \n",
    "7. Diabetes pedigree function \n",
    "8. Age (years)\n",
    "\n",
    "i will try to predict the **target variable** which has been convienently converted into (0 - doesn't have diabetes and 1 - the patient has diabetes. We will see this in the Exploratory Data analysis. This is rather similiar to machine learning, but, in deep learning that involves, neural networks there is representation of data to make conclusion.<sup>10</sup> Thus, there will be input layer, followed by an hidden layer and then the output layer. \n",
    "\n",
    "\n"
   ]
  },
  {
   "cell_type": "markdown",
   "metadata": {},
   "source": [
    "### Exploratory Data analysis:\n"
   ]
  },
  {
   "cell_type": "markdown",
   "metadata": {},
   "source": [
    "### Conclusion:"
   ]
  },
  {
   "cell_type": "markdown",
   "metadata": {
    "collapsed": true
   },
   "source": [
    "### References:\n",
    "1. http://www.webopedia.com/TERM/P/predictive_analytics.html retrieved on 02/06/17 at 11:07 A.M EAT\n",
    "2. https://gist.github.com/themiwi/5064046/revisions retrieved on 02/06/17 at 11:07 A.M EAT\n",
    "3. http://www.predictiveanalyticsworld.com/businessapplications.php retrieved on 02/06/17 at 11:07 A.M EAT\n",
    "4. https://en.wikipedia.org/wiki/Predictive_analytics retrieved on 02/06/17 at 11:07 A.M EAT\n",
    "5. Changing text colour https://stackoverflow.com/questions/19746350/how-does-one-change-color-in-markdown-cells-ipython-jupyter-notebook retrieved on 02/06/17 at 11:17 A.M EAT\n",
    "6. https://keras.io retrieved on 05/06/17 at 10:31 A.M EAT\n",
    "7. https://en.wikipedia.org/wiki/Pima_people retrieved on 06/06/17 at 11:27 A.M EAT\n",
    "8. https://archive.ics.uci.edu/ml/datasets/Pima+Indians+Diabetes retrieved on 06/06/17 at 11:18 A.M EAT\n",
    "9. Smith, J. W., Everhart, J. E., Dickson, W. C., Knowler, W. C., & Johannes, R. S. (1988). Using the ADAP Learning Algorithm to Forecast the Onset of Diabetes Mellitus. Proceedings of the Annual Symposium on Computer Application in Medical Care, 261–265.\n",
    "10. Nikhil Ketkar(2017).Deep Learning with Python: A Hands-on Introduction.apress Bangalore, Karnataka, India page 3"
   ]
  },
  {
   "cell_type": "code",
   "execution_count": null,
   "metadata": {
    "collapsed": true
   },
   "outputs": [],
   "source": []
  }
 ],
 "metadata": {
  "anaconda-cloud": {},
  "kernelspec": {
   "display_name": "Python [conda env:py35]",
   "language": "python",
   "name": "conda-env-py35-py"
  },
  "language_info": {
   "codemirror_mode": {
    "name": "ipython",
    "version": 3
   },
   "file_extension": ".py",
   "mimetype": "text/x-python",
   "name": "python",
   "nbconvert_exporter": "python",
   "pygments_lexer": "ipython3",
   "version": "3.5.2"
  }
 },
 "nbformat": 4,
 "nbformat_minor": 1
}
